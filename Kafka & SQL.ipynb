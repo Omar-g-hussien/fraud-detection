{
 "cells": [
  {
   "cell_type": "code",
   "execution_count": 2,
   "id": "198effe9",
   "metadata": {},
   "outputs": [
    {
     "name": "stdout",
     "output_type": "stream",
     "text": [
      "Collecting kafka-python\n",
      "  Downloading kafka_python-2.0.2-py2.py3-none-any.whl (246 kB)\n",
      "     -------------------------------------- 246.5/246.5 kB 1.3 MB/s eta 0:00:00\n",
      "Installing collected packages: kafka-python\n",
      "Successfully installed kafka-python-2.0.2\n"
     ]
    }
   ],
   "source": [
    "#!pip install kafka-python\n"
   ]
  },
  {
   "cell_type": "code",
   "execution_count": 1,
   "id": "039f767a",
   "metadata": {},
   "outputs": [
    {
     "name": "stdout",
     "output_type": "stream",
     "text": [
      "Message sent successfully!\n"
     ]
    }
   ],
   "source": [
    "from kafka import KafkaProducer\n",
    "import json\n",
    "\n",
    "producer = KafkaProducer(\n",
    "    bootstrap_servers='localhost:9092',\n",
    "    value_serializer=lambda x: json.dumps(x).encode('utf-8')  \n",
    ")\n",
    "\n",
    "transaction_message = {\n",
    "    \"lat\": 37.7749,\n",
    "    \"long\": -122.4194,\n",
    "    \"merch_lat\": 37.8044,\n",
    "    \"merch_long\": -122.2711,\n",
    "    \"amt\": 10000.50,\n",
    "    \"category\": \"grocery_net\",\n",
    "    \"gender\": \"M\",\n",
    "    \"age\": 34,\n",
    "    \"transaction_id\": \"txn125548\"\n",
    "}\n",
    "\n",
    "try:\n",
    "    producer.send('my-topic-2', value=transaction_message)\n",
    "    producer.flush()  \n",
    "    print(\"Message sent successfully!\")\n",
    "except Exception as e:\n",
    "    print(f\"Error sending message: {e}\")\n",
    "finally:\n",
    "    producer.close()\n"
   ]
  },
  {
   "cell_type": "code",
   "execution_count": 2,
   "id": "454015ea",
   "metadata": {},
   "outputs": [
    {
     "name": "stdout",
     "output_type": "stream",
     "text": [
      "Received message: {'lat': 37.7749, 'long': -122.4194, 'merch_lat': 37.8044, 'merch_long': -122.2711, 'amt': 10000.5, 'category': 'grocery_net', 'gender': 'M', 'age': 34, 'transaction_id': 'txn125548'}\n"
     ]
    }
   ],
   "source": [
    "from kafka import KafkaConsumer\n",
    "import json\n",
    "\n",
    "consumer = KafkaConsumer(\n",
    "    'my-topic-2',\n",
    "    bootstrap_servers='localhost:9092',\n",
    "    auto_offset_reset='earliest', \n",
    "    value_deserializer=lambda x: json.loads(x.decode('utf-8')) if x and x.strip() else None  \n",
    ")\n",
    "\n",
    "for message in consumer:\n",
    "    try:\n",
    "        if message.value:\n",
    "            print(f\"Received message: {message.value}\")\n",
    "            break \n",
    "        else:\n",
    "            print(\"Empty message received, skipping...\")\n",
    "            break  \n",
    "    except json.JSONDecodeError:\n",
    "        print(\"Error: Failed to decode message as JSON.\")\n",
    "        break\n",
    "    except Exception as e:\n",
    "        print(f\"Error processing message: {e}\")\n",
    "        break"
   ]
  },
  {
   "cell_type": "code",
   "execution_count": 3,
   "id": "948bba81",
   "metadata": {},
   "outputs": [],
   "source": [
    "#pip install mysql-connector-python\n",
    "#!pip3 install ipython-sql\n",
    "#!pip3 install mysqlclient\n",
    "#!pip install pymysql"
   ]
  },
  {
   "cell_type": "code",
   "execution_count": 4,
   "id": "5452c532",
   "metadata": {
    "scrolled": true
   },
   "outputs": [
    {
     "name": "stdout",
     "output_type": "stream",
     "text": [
      "Table 'transactions' dropped successfully.\n",
      "Table 'transactions' created successfully.\n"
     ]
    }
   ],
   "source": [
    "import pymysql\n",
    "\n",
    "conn = pymysql.connect(\n",
    "    host='localhost',\n",
    "    port=3307,\n",
    "    user='kafka_user',\n",
    "    passwd='kafka_password',\n",
    "    db='kafka_db'\n",
    ")\n",
    "\n",
    "cursor = conn.cursor()\n",
    "\n",
    "drop_table_query = \"DROP TABLE IF EXISTS transactions;\"\n",
    "cursor.execute(drop_table_query)\n",
    "conn.commit()\n",
    "print(\"Table 'transactions' dropped successfully.\")\n",
    "\n",
    "create_table_query = \"\"\"\n",
    "CREATE TABLE IF NOT EXISTS transactions (\n",
    "    id INT AUTO_INCREMENT PRIMARY KEY,\n",
    "    fraud INT DEFAULT 0\n",
    ");\n",
    "\"\"\"\n",
    "\n",
    "cursor.execute(create_table_query)\n",
    "conn.commit()\n",
    "print(\"Table 'transactions' created successfully.\")\n",
    "\n",
    "cursor.close()\n",
    "conn.close()\n"
   ]
  },
  {
   "cell_type": "code",
   "execution_count": 5,
   "id": "c2ac4c3d",
   "metadata": {},
   "outputs": [],
   "source": [
    "import pandas as pd\n",
    "import numpy as np\n",
    "import pickle\n",
    "from geopy.distance import geodesic\n",
    "from sklearn.model_selection import train_test_split\n",
    "from sklearn.preprocessing import StandardScaler, OneHotEncoder, LabelEncoder\n",
    "from sklearn.compose import ColumnTransformer\n",
    "from sklearn.base import BaseEstimator, TransformerMixin\n",
    "from geopy.distance import geodesic\n",
    "from sklearn.pipeline import Pipeline\n",
    "from sklearn.ensemble import RandomForestClassifier\n",
    "from sklearn.metrics import classification_report\n",
    "from imblearn.over_sampling import SMOTE\n",
    "from sklearn.base import BaseEstimator, TransformerMixin\n",
    "from sklearn.model_selection import cross_validate\n",
    "from sklearn.metrics import make_scorer, recall_score, precision_score, accuracy_score, f1_score\n",
    "import pickle"
   ]
  },
  {
   "cell_type": "code",
   "execution_count": 6,
   "id": "c1478263",
   "metadata": {},
   "outputs": [],
   "source": [
    "class DistanceTransformer(BaseEstimator, TransformerMixin):\n",
    "    def fit(self, X, y=None):\n",
    "        return self\n",
    "    \n",
    "    def transform(self, X):\n",
    "        latitudes = X['lat'].values\n",
    "        longitudes = X['long'].values\n",
    "        merchant_latitudes = X['merch_lat'].values\n",
    "        merchant_longitudes = X['merch_long'].values\n",
    "        \n",
    "        distances = np.vectorize(lambda lat, lon, merch_lat, merch_lon: geodesic((lat, lon), (merch_lat, merch_lon)).km)(latitudes, longitudes, merchant_latitudes, merchant_longitudes)\n",
    "        return distances.reshape(-1, 1)"
   ]
  },
  {
   "cell_type": "code",
   "execution_count": 7,
   "id": "46bd8ae6",
   "metadata": {},
   "outputs": [],
   "source": [
    "preprocessor = ColumnTransformer(\n",
    "    transformers=[\n",
    "        ('category', OneHotEncoder(handle_unknown='ignore'), ['category']),\n",
    "        ('gender', LabelEncoder(), ['gender']),\n",
    "        ('num', StandardScaler(), ['amt', 'age', 'distance']),\n",
    "        ('distance', DistanceTransformer(), ['lat', 'long', 'merch_lat', 'merch_long'])\n",
    "    ])"
   ]
  },
  {
   "cell_type": "code",
   "execution_count": 8,
   "id": "6e968b7a",
   "metadata": {},
   "outputs": [],
   "source": [
    "with open(r\"D:\\Intern\\ALX Internship\\fraud_detection_pipeline.pkl\", 'rb') as file:\n",
    "    model = pickle.load(file)\n"
   ]
  },
  {
   "cell_type": "code",
   "execution_count": 10,
   "id": "32bc4d3e",
   "metadata": {
    "scrolled": true
   },
   "outputs": [
    {
     "name": "stdout",
     "output_type": "stream",
     "text": [
      "Received message: {'lat': 37.7749, 'long': -122.4194, 'merch_lat': 37.8044, 'merch_long': -122.2711, 'amt': 10000.5, 'category': 'grocery_net', 'gender': 'M', 'age': 34, 'transaction_id': 'txn125548'}\n",
      "Error processing message: This ColumnTransformer instance is not fitted yet. Call 'fit' with appropriate arguments before using this estimator.\n"
     ]
    }
   ],
   "source": [
    "consumer = KafkaConsumer(\n",
    "    'my-topic-2',  \n",
    "    bootstrap_servers='localhost:9092',\n",
    "    auto_offset_reset='earliest',  \n",
    "    value_deserializer=lambda x: json.loads(x.decode('utf-8')) if x else None  \n",
    ")\n",
    "\n",
    "conn = pymysql.connect(\n",
    "    host='localhost',\n",
    "    port=3307,\n",
    "    user='kafka_user',\n",
    "    passwd='kafka_password',\n",
    "    db='kafka_db'\n",
    ")\n",
    "cursor = conn.cursor()\n",
    "\n",
    "def insert_transaction(transaction_id, fraud):\n",
    "    insert_query = \"INSERT INTO transactions (transaction_id, fraud) VALUES (%s, %s)\"\n",
    "    cursor.execute(insert_query, (transaction_id, fraud))\n",
    "    conn.commit()\n",
    "    print(f\"Transaction {transaction_id} inserted with fraud prediction: {fraud}\")\n",
    "\n",
    "for message in consumer:\n",
    "    try:\n",
    "        if message.value:\n",
    "            print(f\"Received message: {message.value}\")\n",
    "\n",
    "            message_data = message.value\n",
    "            transaction_id = message_data.get('transaction_id')\n",
    "            features = [\n",
    "                message_data['lat'],\n",
    "                message_data['long'],\n",
    "                message_data['merch_lat'],\n",
    "                message_data['merch_long'],\n",
    "                message_data['amt'],\n",
    "                message_data['category'],\n",
    "                message_data['gender'],\n",
    "                message_data['age']\n",
    "            ]\n",
    "\n",
    "            if hasattr(model, 'transform') and hasattr(model, 'transformers_'):\n",
    "                fraud_prediction = model.predict(features_transformed)[0]\n",
    "            else:\n",
    "                fraud_prediction = model.predict([features])[0]\n",
    "\n",
    "            insert_transaction(transaction_id, fraud_prediction)\n",
    "            \n",
    "            break  \n",
    "        else:\n",
    "            print(\"Empty message received, skipping...\")\n",
    "            break\n",
    "    except json.JSONDecodeError:\n",
    "        print(\"Error: Failed to decode message as JSON.\")\n",
    "        break  \n",
    "    except Exception as e:\n",
    "        print(f\"Error processing message: {e}\")\n",
    "        break  \n",
    "\n",
    "cursor.close()\n",
    "conn.close()\n"
   ]
  },
  {
   "cell_type": "code",
   "execution_count": 12,
   "id": "7752b9be",
   "metadata": {},
   "outputs": [
    {
     "name": "stdout",
     "output_type": "stream",
     "text": [
      "Message sent successfully!\n"
     ]
    }
   ],
   "source": [
    "producer = KafkaProducer(\n",
    "    bootstrap_servers='localhost:9092',\n",
    "    value_serializer=lambda x: json.dumps(x).encode('utf-8')  # تحويل البيانات إلى JSON\n",
    ")\n",
    "\n",
    "transaction_message = {\n",
    "    \"lat\": 37.7749,\n",
    "    \"long\": -122.4194,\n",
    "    \"merch_lat\": 37.8044,\n",
    "    \"merch_long\": -122.2711,\n",
    "    \"amt\": 10000.50,\n",
    "    \"category\": \"grocery_net\",\n",
    "    \"gender\": \"M\",\n",
    "    \"age\": 34,\n",
    "    \"transaction_id\": \"txn125548\"\n",
    "}\n",
    "\n",
    "try:\n",
    "    producer.send('my-topic-2', value=transaction_message)\n",
    "    producer.flush()  \n",
    "    print(\"Message sent successfully!\")\n",
    "except Exception as e:\n",
    "    print(f\"Error sending message: {e}\")\n",
    "finally:\n",
    "    producer.close()\n"
   ]
  },
  {
   "cell_type": "code",
   "execution_count": 11,
   "id": "19aaa052",
   "metadata": {},
   "outputs": [
    {
     "name": "stdout",
     "output_type": "stream",
     "text": [
      "Number of rows: 0\n"
     ]
    }
   ],
   "source": [
    "conn = pymysql.connect(\n",
    "    host='localhost',\n",
    "    port=3307,\n",
    "    user='kafka_user',\n",
    "    passwd='kafka_password',\n",
    "    db='kafka_db'\n",
    ")\n",
    "cursor = conn.cursor()\n",
    "\n",
    "try:\n",
    "    select_query = \"SELECT * FROM transactions;\"\n",
    "    cursor.execute(select_query)\n",
    "    rows = cursor.fetchall()\n",
    "    print(f\"Number of rows: {len(rows)}\")\n",
    "    for row in rows:\n",
    "        print(row)\n",
    "except Exception as e:\n",
    "    print(f\"Error reading data: {e}\")\n",
    "\n",
    "cursor.close()\n",
    "conn.close()"
   ]
  },
  {
   "cell_type": "code",
   "execution_count": null,
   "id": "e459385c",
   "metadata": {},
   "outputs": [],
   "source": []
  }
 ],
 "metadata": {
  "kernelspec": {
   "display_name": "Python 3 (ipykernel)",
   "language": "python",
   "name": "python3"
  },
  "language_info": {
   "codemirror_mode": {
    "name": "ipython",
    "version": 3
   },
   "file_extension": ".py",
   "mimetype": "text/x-python",
   "name": "python",
   "nbconvert_exporter": "python",
   "pygments_lexer": "ipython3",
   "version": "3.10.9"
  }
 },
 "nbformat": 4,
 "nbformat_minor": 5
}
